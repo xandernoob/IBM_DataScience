{
 "cells": [
  {
   "cell_type": "markdown",
   "source": [
    "# Jupyter Notebook"
   ],
   "metadata": {
    "collapsed": false
   }
  },
  {
   "cell_type": "markdown",
   "source": [
    "## Alexander Lim\n",
    "Data Scientist"
   ],
   "metadata": {
    "collapsed": false
   }
  },
  {
   "cell_type": "markdown",
   "source": [
    "Some popular data science languages include:\n",
    "\n",
    "1. Python\n",
    "2. R\n",
    "3. Julia\n",
    "4. SQL\n",
    "5. Scala"
   ],
   "metadata": {
    "collapsed": false
   }
  },
  {
   "cell_type": "markdown",
   "source": [
    "Some popular data science libraries for Python include:\n",
    "\n",
    "1. NumPy - Numerical computing\n",
    "2. pandas - Data manipulation and analysis\n",
    "3. Matplotlib - Data visualization"
   ],
   "metadata": {
    "collapsed": false
   }
  },
  {
   "cell_type": "markdown",
   "source": [
    "| Tool             | Category                 | Description                                                                                               |\n",
    "|------------------|--------------------------|-----------------------------------------------------------------------------------------------------------|\n",
    "| Jupyter Notebook | Development Environment  | Interactive environment for creating and sharing code, equations, visualizations, and narrative text      |\n",
    "| RStudio          | Development Environment  | Integrated development environment for R, with support for code execution, debugging, and version control |\n",
    "| TensorFlow       | Machine Learning Library | Open-source library for machine learning and deep learning tasks, developed by Google                     |"
   ],
   "metadata": {
    "collapsed": false
   }
  },
  {
   "cell_type": "markdown",
   "source": [
    "In Python, you can perform arithmetic operations using the following operators:\n",
    "\n",
    "1. Addition: `+`\n",
    "2. Subtraction: `-`\n",
    "3. Multiplication: `*`\n",
    "4. Division: `/`\n",
    "5. Floor Division: `//`\n",
    "6. Modulus: `%`\n",
    "7. Exponentiation: `**`\n",
    "\n",
    "Here are some examples:\n",
    "\n",
    "- 2 + 3 = 5\n",
    "- 7 - 4 = 3\n",
    "- 3 * 4 = 12\n",
    "- 10 / 3 = 3.3333...\n",
    "- 10 // 3 = 3\n",
    "- 10 % 3 = 1\n",
    "- 2 ** 3 = 8"
   ],
   "metadata": {
    "collapsed": false
   }
  },
  {
   "cell_type": "code",
   "execution_count": 8,
   "outputs": [
    {
     "name": "stdout",
     "output_type": "stream",
     "text": [
      "3 * 4 = 12\n"
     ]
    }
   ],
   "source": [
    "# Multiply numbers\n",
    "multiplication_result = 3 * 4\n",
    "print(\"3 * 4 =\", multiplication_result)"
   ],
   "metadata": {
    "collapsed": false,
    "ExecuteTime": {
     "end_time": "2023-05-09T03:28:00.810433200Z",
     "start_time": "2023-05-09T03:28:00.797401Z"
    }
   }
  },
  {
   "cell_type": "code",
   "execution_count": 9,
   "outputs": [
    {
     "name": "stdout",
     "output_type": "stream",
     "text": [
      "120 minutes is equal to 2.0 hours\n"
     ]
    }
   ],
   "source": [
    "# Define the number of minutes to convert\n",
    "minutes = 120\n",
    "\n",
    "# Convert minutes to hours\n",
    "hours = minutes / 60\n",
    "\n",
    "# Print the result\n",
    "print(f\"{minutes} minutes is equal to {hours} hours\")"
   ],
   "metadata": {
    "collapsed": false,
    "ExecuteTime": {
     "end_time": "2023-05-09T03:28:00.827521100Z",
     "start_time": "2023-05-09T03:28:00.811435200Z"
    }
   }
  },
  {
   "cell_type": "markdown",
   "source": [
    "By the end of this notebook, you should be able to:\n",
    "\n",
    "1. Create and edit Markdown cells in a Jupyterlite notebook.\n",
    "2. Perform basic arithmetic operations in Python code cells.\n",
    "3. Convert units, such as minutes to hours, using Python.\n",
    "4. Understand the usage of popular data science languages, libraries, and tools.\n",
    "5. Share a Jupyterlite notebook via GitHub."
   ],
   "metadata": {
    "collapsed": false
   }
  },
  {
   "cell_type": "markdown",
   "source": [
    "Alexander Lim"
   ],
   "metadata": {
    "collapsed": false
   }
  },
  {
   "cell_type": "code",
   "execution_count": 9,
   "outputs": [],
   "source": [],
   "metadata": {
    "collapsed": false,
    "ExecuteTime": {
     "end_time": "2023-05-09T03:28:00.841031900Z",
     "start_time": "2023-05-09T03:28:00.825520900Z"
    }
   }
  }
 ],
 "metadata": {
  "kernelspec": {
   "display_name": "Python 3",
   "language": "python",
   "name": "python3"
  },
  "language_info": {
   "codemirror_mode": {
    "name": "ipython",
    "version": 2
   },
   "file_extension": ".py",
   "mimetype": "text/x-python",
   "name": "python",
   "nbconvert_exporter": "python",
   "pygments_lexer": "ipython2",
   "version": "2.7.6"
  }
 },
 "nbformat": 4,
 "nbformat_minor": 0
}
